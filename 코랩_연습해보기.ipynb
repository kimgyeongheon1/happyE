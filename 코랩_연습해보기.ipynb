{
  "nbformat": 4,
  "nbformat_minor": 0,
  "metadata": {
    "colab": {
      "provenance": [],
      "authorship_tag": "ABX9TyNY6o9WwCOTgBFU4UFRu+sI",
      "include_colab_link": true
    },
    "kernelspec": {
      "name": "python3",
      "display_name": "Python 3"
    },
    "language_info": {
      "name": "python"
    }
  },
  "cells": [
    {
      "cell_type": "markdown",
      "metadata": {
        "id": "view-in-github",
        "colab_type": "text"
      },
      "source": [
        "<a href=\"https://colab.research.google.com/github/kimgyeongheon1/happyE/blob/main/%EC%BD%94%EB%9E%A9_%EC%97%B0%EC%8A%B5%ED%95%B4%EB%B3%B4%EA%B8%B0.ipynb\" target=\"_parent\"><img src=\"https://colab.research.google.com/assets/colab-badge.svg\" alt=\"Open In Colab\"/></a>"
      ]
    },
    {
      "cell_type": "code",
      "source": [
        "print(\"hello colab\")"
      ],
      "metadata": {
        "colab": {
          "base_uri": "https://localhost:8080/"
        },
        "id": "5QMdVjJQbgRl",
        "outputId": "b1f04110-83ba-489d-e257-18434ef91c1f"
      },
      "execution_count": 7,
      "outputs": [
        {
          "output_type": "stream",
          "name": "stdout",
          "text": [
            "hello colab\n"
          ]
        }
      ]
    },
    {
      "cell_type": "code",
      "source": [],
      "metadata": {
        "id": "Lh-HA_LqchkO"
      },
      "execution_count": null,
      "outputs": []
    },
    {
      "cell_type": "code",
      "source": [],
      "metadata": {
        "id": "w2CS58Y_chWv"
      },
      "execution_count": null,
      "outputs": []
    },
    {
      "cell_type": "markdown",
      "source": [],
      "metadata": {
        "id": "46qXciudcfsc"
      }
    },
    {
      "cell_type": "markdown",
      "source": [
        "# 대제목"
      ],
      "metadata": {
        "id": "CTa1EwJsauS-"
      }
    },
    {
      "cell_type": "markdown",
      "source": [
        "## 중제목"
      ],
      "metadata": {
        "id": "Odt_Tf1QauZj"
      }
    },
    {
      "cell_type": "markdown",
      "source": [
        "### 소제목"
      ],
      "metadata": {
        "id": "UbLOmKS7augZ"
      }
    }
  ]
}